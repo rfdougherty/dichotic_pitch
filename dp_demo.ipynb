{
 "cells": [
  {
   "cell_type": "code",
   "execution_count": 1,
   "metadata": {},
   "outputs": [],
   "source": [
    "import numpy as np\n",
    "from scipy import signal\n",
    "import soundfile as sf\n",
    "import matplotlib.pyplot as plt\n",
    "from IPython.display import Audio\n",
    "\n",
    "from dichotic_pitch import dichotic_pitch, lowpass, cos_window\n",
    "\n",
    "# Set up plotting style\n",
    "plt.style.use('seaborn-v0_8')\n",
    "plt.rcParams['figure.figsize'] = [12, 8]\n",
    "\n",
    "# Common constants\n",
    "samp_sec = 48000    # samples per second\n",
    "f_nyquist = samp_sec/2\n",
    "f_max = 1200    # lowpass filter cutoff"
   ]
  },
  {
   "cell_type": "code",
   "execution_count": null,
   "metadata": {},
   "outputs": [],
   "source": [
    "# Simple Dichotic Pitch\n",
    "sbr = 1\n",
    "peak = 500     # Hertz: center frequency of DP signal\n",
    "width = peak/20    # Hertz: width of rectangular DP signal filter\n",
    "ts_sig = -0.6     # milliseconds: time-shift of the signal\n",
    "ts_back = 0.0     # milliseconds: time-shift of the background\n",
    "note_duration = 0.5    # seconds\n",
    "\n",
    "dp = dichotic_pitch(sbr, peak, width, ts_sig, ts_back, samp_sec, note_duration)\n",
    "\n",
    "# lowpass filter \n",
    "#dp = lowpass(dp, f_max/f_nyquist)\n",
    "\n",
    "# cosine window (10 ms)\n",
    "dp = cos_window(dp, round(samp_sec/100))\n",
    "\n",
    "# normalize \n",
    "dp = dp / np.max(np.abs(dp))\n",
    "\n",
    "# Play and save audio\n",
    "sf.write('dp.wav', dp, samp_sec)\n",
    "Audio(dp.T, rate=samp_sec)"
   ]
  },
  {
   "cell_type": "code",
   "execution_count": null,
   "metadata": {},
   "outputs": [],
   "source": [
    "# Plot power spectrum\n",
    "plt.figure(figsize=(10, 6))\n",
    "f, pxx = signal.welch(dp[:, 0], samp_sec, nperseg=256)\n",
    "plt.semilogy(f, pxx)\n",
    "f, pxx = signal.welch(dp[:, 1], samp_sec, nperseg=256)\n",
    "plt.semilogy(f, pxx, color='green')\n",
    "plt.xlim(0, f_max+100)\n",
    "plt.grid(True)\n",
    "plt.show()"
   ]
  },
  {
   "cell_type": "code",
   "execution_count": null,
   "metadata": {},
   "outputs": [],
   "source": [
    "\n"
   ]
  },
  {
   "cell_type": "code",
   "execution_count": null,
   "metadata": {},
   "outputs": [],
   "source": [
    "# The effect of signal-to-background ratio\n",
    "sbr = [5, 4, 3, 2, 1, 0.8, 0.5, 0.25, 0.1]\n",
    "print(f\"The SBR levels: {sbr}\")\n",
    "peak = np.array([300, 600, 900])  # play a harmonic complex\n",
    "width = peak/20\n",
    "num_notes = len(sbr)\n",
    "ts_sig = 0.6\n",
    "ts_back = -0.6\n",
    "note_duration = 0.5\n",
    "\n",
    "parts = []\n",
    "for i in range(num_notes):\n",
    "    parts.append(np.concatenate([\n",
    "        dichotic_pitch(sbr[i], peak, width, ts_sig, ts_back, samp_sec, note_duration),\n",
    "        dichotic_pitch(0, peak, width, ts_sig, ts_back, samp_sec, note_duration)\n",
    "    ]))\n",
    "dp = np.concatenate(parts)\n",
    "\n",
    "# Process and play as before\n",
    "#dp = lowpass(dp, f_max/f_nyquist)\n",
    "dp = cos_window(dp, round(samp_sec/100))\n",
    "dp = dp / np.max(np.abs(dp))\n",
    "sf.write('dpSBR.wav', dp, samp_sec)\n",
    "Audio(dp.T, rate=samp_sec)"
   ]
  },
  {
   "cell_type": "code",
   "execution_count": null,
   "metadata": {},
   "outputs": [],
   "source": [
    "# Dichotic Pitch melody\n",
    "class Note:\n",
    "    def __init__(self, peak=0, ts_sig=0.6, duration=0.1):\n",
    "        self.peak = peak\n",
    "        self.ts_sig = ts_sig\n",
    "        self.duration = duration\n",
    "        self.sbr = 1\n",
    "        self.width = np.array(peak)/20 if isinstance(peak, (list, np.ndarray)) else peak/20\n",
    "        self.ts_back = -0.6\n",
    "\n",
    "# Define the melody\n",
    "notes = []\n",
    "notes.append(Note())  # blank interval\n",
    "notes.append(Note(peak=[300, 600, 900], duration=0.6))\n",
    "notes.append(Note())  # blank\n",
    "notes.append(Note(peak=[400, 800], duration=0.6))\n",
    "notes.append(Note())  # blank\n",
    "notes.append(Note(peak=[300, 600, 900], duration=0.6))\n",
    "notes.append(Note())  # blank\n",
    "notes.append(Note(peak=[200, 400, 600, 800], duration=0.6))\n",
    "notes.append(Note())  # blank\n",
    "\n",
    "# Build the sound vector\n",
    "parts = []\n",
    "for note in notes:\n",
    "    parts.append(dichotic_pitch(note.sbr, note.peak, note.width, \n",
    "                      note.ts_sig, note.ts_back, samp_sec, note.duration))\n",
    "dp = np.concatenate(parts)\n",
    "\n",
    "# Process and play as before\n",
    "#dp = lowpass(dp, f_max/f_nyquist)\n",
    "dp = cos_window(dp, round(samp_sec/100))\n",
    "dp = dp/np.max(np.abs(dp))\n",
    "sf.write('dpMelody.wav', dp, samp_sec)\n",
    "Audio(dp.T, rate=samp_sec)\n"
   ]
  },
  {
   "cell_type": "code",
   "execution_count": null,
   "metadata": {},
   "outputs": [],
   "source": []
  }
 ],
 "metadata": {
  "kernelspec": {
   "display_name": "jupyter",
   "language": "python",
   "name": "python3"
  },
  "language_info": {
   "codemirror_mode": {
    "name": "ipython",
    "version": 3
   },
   "file_extension": ".py",
   "mimetype": "text/x-python",
   "name": "python",
   "nbconvert_exporter": "python",
   "pygments_lexer": "ipython3",
   "version": "3.12.8"
  }
 },
 "nbformat": 4,
 "nbformat_minor": 2
}
