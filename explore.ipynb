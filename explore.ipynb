{
 "cells": [
  {
   "cell_type": "markdown",
   "metadata": {},
   "source": [
    "# Dichotic Pitch Analysis\n",
    "\n",
    "This notebook analyzes and visualizes dichotic pitch waveforms and their spectra."
   ]
  },
  {
   "cell_type": "code",
   "execution_count": 1,
   "metadata": {},
   "outputs": [],
   "source": [
    "import numpy as np\n",
    "import matplotlib.pyplot as plt\n",
    "from dichotic_pitch import dichotic_pitch\n",
    "from scipy import signal\n",
    "from IPython.display import Audio\n",
    "\n",
    "# Set up plotting style\n",
    "plt.style.use('seaborn-v0_8')\n",
    "plt.rcParams['figure.figsize'] = [12, 8]"
   ]
  },
  {
   "cell_type": "code",
   "execution_count": null,
   "metadata": {},
   "outputs": [],
   "source": [
    "# Generate dichotic pitch signal\n",
    "sbr = 1.0  # signal-to-background ratio\n",
    "peak = 220  # frequency in Hz\n",
    "width = 20  # bandwidth in Hz\n",
    "ts_sig = -0.7  # signal time shift in ms\n",
    "ts_back = 0.0  # background time shift in ms\n",
    "fs = 16000  # sampling rate\n",
    "duration = 2  # duration in seconds\n",
    "\n",
    "# Generate the signal\n",
    "dp, fs = dichotic_pitch(\n",
    "    sbr=sbr,\n",
    "    peak=peak,\n",
    "    width=width,\n",
    "    ts_sig=ts_sig,\n",
    "    ts_back=ts_back,\n",
    "    samp_sec=fs,\n",
    "    duration=duration\n",
    ")\n",
    "Audio(data=dp.T, rate=fs)"
   ]
  },
  {
   "cell_type": "code",
   "execution_count": null,
   "metadata": {},
   "outputs": [],
   "source": []
  },
  {
   "cell_type": "code",
   "execution_count": null,
   "metadata": {},
   "outputs": [],
   "source": [
    "# Binaural beats\n",
    "framerate = 44100\n",
    "t = np.linspace(0,5,framerate*5)\n",
    "dataleft = np.sin(2*np.pi*220*t)\n",
    "dataright = np.sin(2*np.pi*229*t)\n",
    "#Audio([dataleft, dataright],rate=framerate)\n",
    "Audio(np.vstack([dataleft, dataright]),rate=framerate)"
   ]
  },
  {
   "cell_type": "markdown",
   "metadata": {},
   "source": [
    "## Time Domain Analysis"
   ]
  },
  {
   "cell_type": "code",
   "execution_count": null,
   "metadata": {},
   "outputs": [],
   "source": [
    "# Plot time series\n",
    "time = np.arange(len(dp)) / fs\n",
    "\n",
    "fig, (ax1, ax2) = plt.subplots(2, 1, height_ratios=[1, 1])\n",
    "fig.suptitle('Dichotic Pitch Waveforms')\n",
    "\n",
    "# Plot first 1000 samples for better visibility\n",
    "samples_to_plot = 1000\n",
    "\n",
    "# Left channel\n",
    "ax1.plot(time[:samples_to_plot] * 1000, dp[:samples_to_plot, 0], label='Left Channel')\n",
    "ax1.set_ylabel('Amplitude')\n",
    "ax1.set_title('Left Channel')\n",
    "ax1.grid(True)\n",
    "\n",
    "# Right channel\n",
    "ax2.plot(time[:samples_to_plot] * 1000, dp[:samples_to_plot, 1], label='Right Channel', color='orange')\n",
    "ax2.set_xlabel('Time (ms)')\n",
    "ax2.set_ylabel('Amplitude')\n",
    "ax2.set_title('Right Channel')\n",
    "ax2.grid(True)\n",
    "\n",
    "plt.tight_layout()\n",
    "plt.show()"
   ]
  },
  {
   "cell_type": "markdown",
   "metadata": {},
   "source": [
    "## Frequency Domain Analysis"
   ]
  },
  {
   "cell_type": "code",
   "execution_count": null,
   "metadata": {},
   "outputs": [],
   "source": [
    "def plot_spectrum(signal_data, fs, ax, title):\n",
    "    \"\"\"Plot the power spectrum of a signal\"\"\"\n",
    "    # Note: signal.welch instead of signal.welch\n",
    "    f, Pxx = signal.welch(signal_data, fs, nperseg=4096)\n",
    "    ax.semilogy(f, Pxx)\n",
    "    ax.set_xlabel('Frequency (Hz)')\n",
    "    ax.set_ylabel('Power Spectral Density')\n",
    "    ax.set_title(title)\n",
    "    ax.grid(True)\n",
    "    ax.set_xlim(0, 2000)  # Focus on frequencies up to 2kHz\n",
    "\n",
    "# Create figure for spectra\n",
    "fig, (ax1, ax2) = plt.subplots(2, 1, height_ratios=[1, 1])\n",
    "fig.suptitle('Power Spectra of Dichotic Pitch Signals')\n",
    "\n",
    "# Plot spectra\n",
    "plot_spectrum(dp[:, 0], fs, ax1, 'Left Channel Spectrum')\n",
    "plot_spectrum(dp[:, 1], fs, ax2, 'Right Channel Spectrum')\n",
    "\n",
    "# Add vertical lines for the peak frequency and bandwidth\n",
    "for ax in [ax1, ax2]:\n",
    "    ax.axvline(x=peak, color='r', linestyle='--', alpha=0.5, label='Peak Frequency')\n",
    "    ax.axvline(x=peak-width/2, color='g', linestyle=':', alpha=0.5, label='Bandwidth')\n",
    "    ax.axvline(x=peak+width/2, color='g', linestyle=':', alpha=0.5)\n",
    "    ax.legend()\n",
    "\n",
    "plt.tight_layout()\n",
    "plt.show()"
   ]
  },
  {
   "cell_type": "markdown",
   "metadata": {},
   "source": [
    "## Cross-correlation Analysis"
   ]
  },
  {
   "cell_type": "code",
   "execution_count": null,
   "metadata": {},
   "outputs": [],
   "source": [
    "# Calculate and plot cross-correlation between channels\n",
    "max_lag = int(0.01 * fs)  # 10ms maximum lag\n",
    "lags = np.arange(-max_lag, max_lag + 1) / fs * 1000  # Convert to ms\n",
    "xcorr = signal.correlate(dp[:, 0], dp[:, 1], mode='same')\n",
    "xcorr = xcorr[len(xcorr)//2-max_lag:len(xcorr)//2+max_lag+1]\n",
    "\n",
    "plt.figure(figsize=(12, 4))\n",
    "plt.plot(lags, xcorr)\n",
    "plt.xlabel('Lag (ms)')\n",
    "plt.ylabel('Cross-correlation')\n",
    "plt.title('Cross-correlation between Left and Right Channels')\n",
    "plt.grid(True)\n",
    "\n",
    "# Add vertical lines for the time shifts\n",
    "plt.axvline(x=-ts_sig, color='r', linestyle='--', alpha=0.5, label='Signal Time Shift')\n",
    "plt.axvline(x=-ts_back, color='g', linestyle='--', alpha=0.5, label='Background Time Shift')\n",
    "plt.legend()\n",
    "\n",
    "plt.tight_layout()\n",
    "plt.show()"
   ]
  },
  {
   "cell_type": "code",
   "execution_count": 14,
   "metadata": {},
   "outputs": [],
   "source": [
    "def multi_bandpass(n, low_freqs, high_freqs):\n",
    "    \"\"\"Create multiple bandpass filters\"\"\"\n",
    "    # Create frequency array\n",
    "    freqs = np.fft.rfftfreq(n)\n",
    "    filt = np.zeros(n//2 + 1)\n",
    "    \n",
    "    # Convert input to arrays if they're not already\n",
    "    low_freqs = np.atleast_1d(low_freqs)\n",
    "    high_freqs = np.atleast_1d(high_freqs)\n",
    "    \n",
    "    # Create rectangular bandpass filter\n",
    "    for low, high in zip(low_freqs, high_freqs):\n",
    "        filt += np.where((abs(freqs) >= low) & (abs(freqs) <= high), 1, 0)\n",
    "    \n",
    "    return filt"
   ]
  },
  {
   "cell_type": "code",
   "execution_count": null,
   "metadata": {},
   "outputs": [],
   "source": [
    "sbr = 3\n",
    "np.max([1 - sbr - 1, -1])"
   ]
  },
  {
   "cell_type": "code",
   "execution_count": null,
   "metadata": {},
   "outputs": [],
   "source": [
    "samp_sec = 8000\n",
    "duration = 0.25\n",
    "n = round(duration * samp_sec)\n",
    "f_nyquist = samp_sec / 2\n",
    "width = 100\n",
    "peak = 440\n",
    "low, high = (peak-width / 2) / f_nyquist, (peak+width / 2) / f_nyquist\n",
    "sig_filter = multi_bandpass(n, low, high)\n",
    "back_filter = sig_filter.copy()\n",
    "renorm_filter = sig_filter.copy()\n",
    "\n",
    "# Scale filters\n",
    "sig_filter = sig_filter * sbr\n",
    "back_filter = back_filter * np.max([1 - sbr - 1, -1]) + 1\n",
    "fig, (ax1, ax2) = plt.subplots(2, 1, figsize=(8, 3))\n",
    "ax1.plot(sig_filter)\n",
    "ax2.plot(back_filter)\n",
    "plt.tight_layout()\n",
    "plt.show()\n"
   ]
  },
  {
   "cell_type": "code",
   "execution_count": null,
   "metadata": {},
   "outputs": [],
   "source": [
    "amp = np.sqrt(n)\n",
    "\n",
    "# Create full phase arrays\n",
    "sig_phase = np.concatenate([[0], np.random.rand(n//2) * 2 * np.pi - np.pi])\n",
    "back_phase = np.concatenate([[0], np.random.rand(n//2) * 2 * np.pi - np.pi])\n",
    "# Combine amplitude and phase\n",
    "sig = amp * np.exp(1j * sig_phase)\n",
    "back = amp * np.exp(1j * back_phase)\n",
    "fig, (ax1, ax2) = plt.subplots(2, 1, figsize=(8, 3))\n",
    "ax1.plot(sig)\n",
    "ax2.plot(back)\n",
    "plt.tight_layout()\n",
    "plt.show()"
   ]
  },
  {
   "cell_type": "code",
   "execution_count": null,
   "metadata": {},
   "outputs": [],
   "source": [
    "sig = np.real(np.fft.irfft(sig_filter * sig, n))\n",
    "back = np.real(np.fft.irfft(back_filter * back, n))\n",
    "fig, (ax1, ax2) = plt.subplots(2, 1, figsize=(8, 3))\n",
    "ax1.plot(sig)\n",
    "ax2.plot(back)\n",
    "plt.tight_layout()\n",
    "plt.show()"
   ]
  },
  {
   "cell_type": "code",
   "execution_count": null,
   "metadata": {},
   "outputs": [],
   "source": [
    "np.fft.rfftfreq(20)"
   ]
  },
  {
   "cell_type": "code",
   "execution_count": null,
   "metadata": {},
   "outputs": [],
   "source": [
    "freqs = np.fft.rfftfreq(20)\n",
    "np.abs(freqs)"
   ]
  },
  {
   "cell_type": "code",
   "execution_count": null,
   "metadata": {},
   "outputs": [],
   "source": [
    "x = np.linspace(-1, 1, 20)\n",
    "print(x)\n",
    "xf = np.fft.rfft(x)\n",
    "print(xf)\n",
    "np.fft.irfft(xf, len(x))"
   ]
  },
  {
   "cell_type": "code",
   "execution_count": 73,
   "metadata": {},
   "outputs": [],
   "source": [
    "sbr = 1.0\n",
    "peak = 440\n",
    "width = 50\n",
    "ts_sig = -0.7 \n",
    "ts_back = 0.7 \n",
    "samp_sec = 8192\n",
    "duration = 1.0\n",
    "\n",
    "peak = np.atleast_1d(peak)\n",
    "width = np.atleast_1d(width)\n",
    "f_nyquist = samp_sec / 2\n",
    "\n",
    "# Calculate number of samples\n",
    "n = round(duration * samp_sec)\n",
    "n += n % 2  # ensure n is even\n",
    "\n",
    "# Create pseudo-noise\n",
    "amp = np.sqrt(n)\n",
    "\n",
    "# Create full phase arrays\n",
    "sig_phase = np.concatenate([[0], np.random.rand(n//2) * 2 * np.pi - np.pi])\n",
    "back_phase = np.concatenate([[0], np.random.rand(n//2) * 2 * np.pi - np.pi])\n",
    "\n",
    "# Combine amplitude and phase\n",
    "sig = amp * np.exp(1j * sig_phase)\n",
    "back = amp * np.exp(1j * back_phase)\n",
    "\n",
    "# Create filters\n",
    "sig_filter = multi_bandpass(n, (peak-width / 2) / f_nyquist, (peak+width / 2) / f_nyquist)\n",
    "back_filter = sig_filter.copy()\n",
    "renorm_filter = sig_filter.copy()\n",
    "\n",
    "# Scale filters\n",
    "sig_filter = sig_filter * sbr\n",
    "back_filter = back_filter * np.maximum((1-sbr-1), -1) + 1\n",
    "\n",
    "# Renormalization for sbr < 1\n",
    "if sbr < 1:\n",
    "    renorm = 1/np.sqrt(sbr**2 + (1-sbr)**2)\n",
    "    renorm_filter = renorm_filter * (renorm - 1) + 1\n",
    "else:\n",
    "    renorm_filter = None\n",
    "\n",
    "# Transform to time domain\n",
    "sig = np.real(np.fft.irfft(sig_filter * sig, n))\n",
    "back = np.real(np.fft.irfft(back_filter * back, n))\n",
    "\n",
    "# Create stereo channels\n",
    "dp = np.zeros((n, 2))\n",
    "dp[:, 0] = sig + back\n",
    "\n",
    "# Apply time shifts\n",
    "sig = shift(sig, round(ts_sig/1000 * samp_sec))\n",
    "back = shift(back, round(ts_back/1000 * samp_sec))\n",
    "dp[:, 1] = sig + back\n",
    "\n",
    "# Apply renormalization if necessary\n",
    "if renorm_filter is not None:\n",
    "    for ch in range(2):\n",
    "        ft = np.fft.fftshift(np.fft.fft(dp[:, ch]))\n",
    "        dp[:, ch] = np.real(np.fft.ifft(np.fft.ifftshift(ft * renorm_filter)))\n",
    "\n",
    "# Normalize to prevent clipping\n",
    "dp = dp / np.max(np.abs(dp))\n"
   ]
  },
  {
   "cell_type": "code",
   "execution_count": null,
   "metadata": {},
   "outputs": [],
   "source": [
    "dp.shape"
   ]
  },
  {
   "cell_type": "code",
   "execution_count": null,
   "metadata": {},
   "outputs": [],
   "source": [
    " "
   ]
  },
  {
   "cell_type": "code",
   "execution_count": null,
   "metadata": {},
   "outputs": [],
   "source": [
    "low_freqs = (peak-width / 2) / f_nyquist\n",
    "high_freqs = (peak+width / 2) / f_nyquist\n",
    "# Convert input to arrays if they're not already\n",
    "low_freqs = np.atleast_1d(low_freqs)\n",
    "high_freqs = np.atleast_1d(high_freqs)\n",
    "\n",
    "\"\"\"Create multiple bandpass filters\"\"\"\n",
    "# Create frequency array\n",
    "freqs = np.fft.rfftfreq(n)\n",
    "filt = np.zeros(n)\n",
    "\n",
    "# Create rectangular bandpass filter\n",
    "for low, high in zip(low_freqs, high_freqs):\n",
    "    filt += np.where((abs(freqs) >= low) & (abs(freqs) <= high), 1, 0)"
   ]
  },
  {
   "cell_type": "code",
   "execution_count": null,
   "metadata": {},
   "outputs": [],
   "source": [
    "np.fft.rfftfreq?\n",
    "\n"
   ]
  },
  {
   "cell_type": "code",
   "execution_count": null,
   "metadata": {},
   "outputs": [],
   "source": []
  }
 ],
 "metadata": {
  "kernelspec": {
   "display_name": "jupyter",
   "language": "python",
   "name": "python3"
  },
  "language_info": {
   "codemirror_mode": {
    "name": "ipython",
    "version": 3
   },
   "file_extension": ".py",
   "mimetype": "text/x-python",
   "name": "python",
   "nbconvert_exporter": "python",
   "pygments_lexer": "ipython3",
   "version": "3.12.8"
  }
 },
 "nbformat": 4,
 "nbformat_minor": 4
}
